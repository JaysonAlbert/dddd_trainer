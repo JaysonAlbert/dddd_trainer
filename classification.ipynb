{
 "cells": [
  {
   "cell_type": "code",
   "execution_count": 3,
   "id": "58ce2597",
   "metadata": {},
   "outputs": [
    {
     "name": "stdout",
     "output_type": "stream",
     "text": [
      "欢迎使用ddddocr，本项目专注带动行业内卷，个人博客:wenanzhe.com\n",
      "训练数据支持来源于:http://146.56.204.113:19199/preview\n",
      "爬虫框架feapder可快速一键接入，快速开启爬虫之旅：https://github.com/Boris-code/feapder\n",
      "谷歌reCaptcha验证码 / hCaptcha验证码 / funCaptcha验证码商业级识别接口：https://yescaptcha.com/i/NSwk7i\n",
      "2x3=?\n",
      "2-3=?\n",
      "9x0=?\n",
      "0x4=?\n",
      "9+5=?\n",
      "9x0=?\n",
      "4-8=?\n",
      "2+5=?\n",
      "2+7=?\n",
      "\n",
      "\n",
      "\n",
      "1+1=?\n"
     ]
    }
   ],
   "source": [
    "import ddddocr\n",
    "\n",
    "det = ddddocr.DdddOcr(import_onnx_path = './projects/piaoxingqiu/models/piaoxingqiu_1.0_23_7000_2023-12-14-22-24-19.onnx',\n",
    "                      charsets_path = './projects/piaoxingqiu/models/charsets.json',)\n",
    "\n",
    "for i in range(1, 10):\n",
    "    with open(f'/home/wangjie/PycharmProjects/EasyCaptcha/easycaptcha/datasets/images/{i}.png', 'rb') as f:\n",
    "        image_bytes = f.read()\n",
    "\n",
    "    print(det.classification(image_bytes))\n",
    "\n",
    "print('\\n\\n')\n",
    "with open(f'/home/wangjie/Desktop/123.png', 'rb') as f:\n",
    "    image_bytes = f.read()\n",
    "print(det.classification(image_bytes))"
   ]
  },
  {
   "cell_type": "code",
   "execution_count": null,
   "id": "559bba99",
   "metadata": {},
   "outputs": [],
   "source": []
  }
 ],
 "metadata": {
  "kernelspec": {
   "display_name": "ibot",
   "language": "python",
   "name": "ibot"
  },
  "language_info": {
   "codemirror_mode": {
    "name": "ipython",
    "version": 3
   },
   "file_extension": ".py",
   "mimetype": "text/x-python",
   "name": "python",
   "nbconvert_exporter": "python",
   "pygments_lexer": "ipython3",
   "version": "3.9.17"
  }
 },
 "nbformat": 4,
 "nbformat_minor": 5
}
